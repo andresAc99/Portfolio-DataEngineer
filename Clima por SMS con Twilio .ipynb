{
 "cells": [
  {
   "cell_type": "code",
   "execution_count": null,
   "id": "679a03bc-f1e4-44d4-88f4-a602d2dd506d",
   "metadata": {},
   "outputs": [],
   "source": [
    "import os\n",
    "from twilio.rest import Client\n",
    "#from twilio_config import *\n",
    "import time\n",
    "\n",
    "from requests import Request, Session\n",
    "from requests.exceptions import ConnectionError, Timeout, TooManyRedirects\n",
    "import json\n",
    "\n",
    "\n",
    "import pandas as pd\n",
    "import requests\n",
    "from bs4  import BeautifulSoup\n",
    "from tqdm import tqdm\n",
    "\n",
    "from datetime import datetime"
   ]
  },
  {
   "cell_type": "code",
   "execution_count": null,
   "id": "533ff43c-ba1e-4a0f-bb3d-4825c990ba0c",
   "metadata": {},
   "outputs": [],
   "source": [
    "TWILIO_ACCOUNT_SID ='XXXXXXXXXXXXXXXXXXXX'\n",
    "TWILIO_AUTH_TOKEN ='XXXXXXXXXXXXXXXXXXXX'\n",
    "PHONE_NUMBER ='+ XX XXX XXX XXX'\n",
    "API_KEY_WAPI = 'XXXXXXXXXXXXXXXXXXXX'"
   ]
  },
  {
   "cell_type": "markdown",
   "id": "4d7488a2-aa8c-430e-80f0-113b705c25b1",
   "metadata": {},
   "source": [
    "# Armado de la URL"
   ]
  },
  {
   "cell_type": "code",
   "execution_count": null,
   "id": "e63e7fe9-934a-4cb2-bd4f-edd8e0004d5d",
   "metadata": {},
   "outputs": [],
   "source": [
    "query = 'place'\n",
    "api_key = API_KEY_WAPI\n",
    "url_clima = 'http://api.weatherapi.com/v1/forecast.json?key='+api_key+'&q='+query+'&days=3&aqi=no&alerts=no'\n",
    "url_clima"
   ]
  },
  {
   "cell_type": "code",
   "execution_count": null,
   "id": "3bf43c14-e445-4980-bc01-51233fd8cd14",
   "metadata": {},
   "outputs": [],
   "source": [
    "response = requests.get(url_clima).json()"
   ]
  },
  {
   "cell_type": "code",
   "execution_count": null,
   "id": "5c4480a1-6216-4dc7-acd5-3ed3e3fa896a",
   "metadata": {},
   "outputs": [],
   "source": [
    "response"
   ]
  },
  {
   "cell_type": "code",
   "execution_count": null,
   "id": "ee23d491-b4bf-49dc-93bf-af186378cf15",
   "metadata": {},
   "outputs": [],
   "source": [
    "response.keys()"
   ]
  },
  {
   "cell_type": "code",
   "execution_count": null,
   "id": "51c246e6-9e03-4d7a-bada-9c214ac22c1b",
   "metadata": {},
   "outputs": [],
   "source": [
    "response['forecast']['forecastday'][0].keys()"
   ]
  },
  {
   "cell_type": "code",
   "execution_count": null,
   "id": "75623aeb-7420-4f84-a2b2-3f07a13e05ec",
   "metadata": {},
   "outputs": [],
   "source": [
    "len(response['forecast']['forecastday'][0]['hour'])"
   ]
  },
  {
   "cell_type": "code",
   "execution_count": null,
   "id": "faa31dff-025b-4677-9e91-1376803aff2f",
   "metadata": {},
   "outputs": [],
   "source": [
    "response['forecast']['forecastday'][0]['hour'][0]"
   ]
  },
  {
   "cell_type": "code",
   "execution_count": null,
   "id": "e64cbaed-e045-459f-942a-284fc848b369",
   "metadata": {},
   "outputs": [],
   "source": [
    "response['forecast']['forecastday'][0]['hour'][0]['time'].split()[0]"
   ]
  },
  {
   "cell_type": "code",
   "execution_count": null,
   "id": "d9a42f04-661c-4d7d-a667-1dae820cde0a",
   "metadata": {},
   "outputs": [],
   "source": [
    "response['forecast']['forecastday'][0]['hour'][1]['time'].split()[1].split(':')[0]"
   ]
  },
  {
   "cell_type": "code",
   "execution_count": null,
   "id": "893ae24d-4108-42fb-9919-62a7e6f8866c",
   "metadata": {},
   "outputs": [],
   "source": [
    "response['forecast']['forecastday'][0]['hour'][0]['will_it_rain']"
   ]
  },
  {
   "cell_type": "code",
   "execution_count": null,
   "id": "74e7b806-f477-4edc-8fc9-cdd1f393e511",
   "metadata": {},
   "outputs": [],
   "source": [
    "response['forecast']['forecastday'][0]['hour'][2]['chance_of_rain']"
   ]
  },
  {
   "cell_type": "markdown",
   "id": "824609de-87ac-44f0-8db8-696d85cf5a34",
   "metadata": {},
   "source": [
    "# Dataframe"
   ]
  },
  {
   "cell_type": "code",
   "execution_count": null,
   "id": "752fe5e2-c99a-468b-a809-05c2e00c4b39",
   "metadata": {},
   "outputs": [],
   "source": [
    "def get_forecast(response,i):\n",
    "    \n",
    "    fecha = response['forecast']['forecastday'][0]['hour'][i]['time'].split()[0]\n",
    "    hora = int(response['forecast']['forecastday'][0]['hour'][i]['time'].split()[1].split(':')[0])\n",
    "    condicion = response['forecast']['forecastday'][0]['hour'][i]['condition']['text']\n",
    "    tempe = float(response['forecast']['forecastday'][0]['hour'][i]['temp_c'])\n",
    "    dir_wind = (response['forecast']['forecastday'][0]['hour'][i]['wind_dir'])\n",
    "    wind_mph = float(response['forecast']['forecastday'][0]['hour'][i]['wind_mph'])\n",
    "    rain = response['forecast']['forecastday'][0]['hour'][i]['will_it_rain']\n",
    "    prob_rain = response['forecast']['forecastday'][0]['hour'][i]['chance_of_rain']\n",
    "    \n",
    "    return fecha,hora,condicion,tempe,dir_wind,wind_mph,rain,prob_rain"
   ]
  },
  {
   "cell_type": "code",
   "execution_count": null,
   "id": "570ddad0-1ed8-4e66-b040-f2b1ffcb82f7",
   "metadata": {},
   "outputs": [],
   "source": [
    "datos = []\n",
    "\n",
    "for i in tqdm(range(len(response['forecast']['forecastday'][0]['hour'])),colour = 'green'):\n",
    "    \n",
    "    datos.append(get_forecast(response,i))"
   ]
  },
  {
   "cell_type": "code",
   "execution_count": null,
   "id": "9759af6e-2770-48b4-84d8-048763076f24",
   "metadata": {},
   "outputs": [],
   "source": [
    "datos[0]"
   ]
  },
  {
   "cell_type": "code",
   "execution_count": null,
   "id": "482f496f-d4e0-454e-9cef-59ae8cf98f6b",
   "metadata": {},
   "outputs": [],
   "source": [
    "col = ['Fecha','Hora','Condicion','Temperatura','Direccion del Viento','Viento Mph','Lluvia','prob_lluvia']\n",
    "df = pd.DataFrame(datos,columns=col)\n",
    "df = df.sort_values(by = 'Hora',ascending = True)\n",
    "df"
   ]
  },
  {
   "cell_type": "markdown",
   "id": "dfa8802c-0ae3-4e45-ade4-09aff7533494",
   "metadata": {},
   "source": [
    "### EN MI CASO PONDRE UN RESUMEN DEL PRONOSTICO DEL DIA SIGUIENTE"
   ]
  },
  {
   "cell_type": "code",
   "execution_count": null,
   "id": "811db095-a187-4081-97ea-4aae3ab8f326",
   "metadata": {},
   "outputs": [],
   "source": [
    "def get_time_range(hour):\n",
    "    if 0 <= hour < 6:\n",
    "        return 'De 0 a 6'\n",
    "    elif 6 <= hour < 12:\n",
    "        return 'De 6 a 12'\n",
    "    elif 12 <= hour < 18:\n",
    "        return 'De 12 a 18'\n",
    "    else:\n",
    "        return 'De 18 a 24'"
   ]
  },
  {
   "cell_type": "code",
   "execution_count": null,
   "id": "64c9cc04-0168-4771-a411-663dcf42f33a",
   "metadata": {},
   "outputs": [],
   "source": [
    "# Añadir una columna con el rango horario\n",
    "df['Rango_Horario'] = df['Hora'].apply(get_time_range)\n",
    "\n",
    "# Estadísticas requeridas\n",
    "# Moda de la condición por rango horario\n",
    "condicion_moda = df.groupby('Rango_Horario')['Condicion'].agg(pd.Series.mode)\n",
    "\n",
    "# Promedio de viento por rango horario\n",
    "viento_promedio = df.groupby('Rango_Horario')['Viento Mph'].mean()\n",
    "\n",
    "# Moda de la dirección del viento por rango horario\n",
    "direccion_moda = df.groupby('Rango_Horario')['Direccion del Viento'].agg(pd.Series.mode)\n",
    "\n",
    "# Promedio de lluvia y probabilidad de lluvia por rango horario\n",
    "lluvia_promedio = df.groupby('Rango_Horario')['Lluvia'].mean()\n",
    "prob_lluvia_promedio = df.groupby('Rango_Horario')['prob_lluvia'].mean()"
   ]
  },
  {
   "cell_type": "code",
   "execution_count": null,
   "id": "1dcddddb-965f-4714-8af6-35712b16177d",
   "metadata": {},
   "outputs": [],
   "source": [
    "# Mostrar resultados\n",
    "#print(\"Moda de la condición por rango horario:\")\n",
    "#print(condicion_moda)\n",
    "\n",
    "#print(\"\\nPromedio de viento (mph) por rango horario:\")\n",
    "#print(viento_promedio)\n",
    "\n",
    "#print(\"\\nModa de la dirección del viento por rango horario:\")\n",
    "#print(direccion_moda)\n",
    "\n",
    "#print(\"\\nPromedio de lluvia por rango horario:\")\n",
    "#print(lluvia_promedio)\n",
    "\n",
    "#print(\"\\nPromedio de probabilidad de lluvia por rango horario:\")\n",
    "#print(prob_lluvia_promedio)"
   ]
  },
  {
   "cell_type": "code",
   "execution_count": null,
   "id": "992fcffa-d360-4954-ad2c-0e5c46391410",
   "metadata": {},
   "outputs": [],
   "source": [
    "# data_cli = {\n",
    "#     'Fecha':datos[0][0],\n",
    "#     'Hora':datos[1][],\n",
    "#     'Tiempo':condicion,\n",
    "#     'Temperatura':tempe,\n",
    "#     'LLoverá':rain,\n",
    "#     'prob_lluvia':prob_rain\n",
    "    \n",
    "# }\n",
    "\n",
    "# df = pd.DataFrame(data_cli)\n",
    "# df = df.sort_values(by = 'Hora',ascending = True)"
   ]
  },
  {
   "cell_type": "code",
   "execution_count": null,
   "id": "3a3d2cd6-5931-4eb4-af42-bac9fee9881c",
   "metadata": {},
   "outputs": [],
   "source": [
    "print(condicion_moda[0])"
   ]
  },
  {
   "cell_type": "code",
   "execution_count": null,
   "id": "fc48b689-af71-4013-951c-801d4803c004",
   "metadata": {},
   "outputs": [],
   "source": [
    "'Hola!  El pronostico del tiempo en ' + query +' hoy '+ df['Fecha'][0] + ' de 0:00 a 6:00 el clima será ' + condicion_moda[0] +' con viento de : '+ str(viento_promedio[0]) + ' mph y dirección a ' +  direccion_moda[0] "
   ]
  },
  {
   "cell_type": "code",
   "execution_count": null,
   "id": "1fef0273-4f55-442c-a2b9-9e8ecdc6799f",
   "metadata": {},
   "outputs": [],
   "source": [
    "#df_rain =  df[(df['Temperatura']>1) & (df['Hora']>6) & (df['Hora']< 22)]\n",
    "#df_rain = df_rain[['Hora','Condicion']]\n",
    "#df_rain.set_index('Hora', inplace = True)"
   ]
  },
  {
   "cell_type": "code",
   "execution_count": null,
   "id": "d0337d02-54f2-461c-8113-6fe18ce0d815",
   "metadata": {},
   "outputs": [],
   "source": [
    "#df['Fecha'][0]"
   ]
  },
  {
   "cell_type": "code",
   "execution_count": null,
   "id": "8b1c3042-b1b8-4499-a4f3-7cb7f2cce362",
   "metadata": {},
   "outputs": [],
   "source": [
    "#df_rain"
   ]
  },
  {
   "cell_type": "code",
   "execution_count": null,
   "id": "5bcb1e5e-bd45-49ef-ab5e-fb67c8631cb4",
   "metadata": {},
   "outputs": [],
   "source": [
    "#'\\nHola! \\n\\n\\n El pronostico del tiempo hoy '+ df['Fecha'][0] +' en ' + query +' es : \\n\\n\\n ' + str(df_rain)"
   ]
  },
  {
   "cell_type": "code",
   "execution_count": null,
   "id": "aba312b5-c191-4efc-8d40-8b1eb3f3a56a",
   "metadata": {},
   "outputs": [],
   "source": [
    "PHONE_NUMBER"
   ]
  },
  {
   "cell_type": "markdown",
   "id": "d91280f1-50a3-42d8-adf0-7f8ce435b1d6",
   "metadata": {},
   "source": [
    "# Mensaje SMS desde Twilio"
   ]
  },
  {
   "cell_type": "code",
   "execution_count": null,
   "id": "d64aeb7a-245d-4761-8d25-13909b9d5ec2",
   "metadata": {},
   "outputs": [],
   "source": [
    "time.sleep(2)\n",
    "account_sid = TWILIO_ACCOUNT_SID \n",
    "auth_token = TWILIO_AUTH_TOKEN\n",
    "\n",
    "client = Client(account_sid, auth_token)\n",
    "\n",
    "message = client.messages \\\n",
    "                .create(\n",
    "                     body='Hola!  El pronostico del tiempo en ' + query +' hoy '+ df['Fecha'][2] + ' de 0:00 a 6:00 el clima será ' + condicion_moda[2] +' con viento de : '+ str(viento_promedio[2]) + ' mph y dirección a ' +  direccion_moda[2]  ,\n",
    "                     from_=PHONE_NUMBER,\n",
    "                     to='+XXXXXXX'\n",
    "                 )\n",
    "\n",
    "print('Mensaje Enviado ' + message.sid)"
   ]
  },
  {
   "cell_type": "code",
   "execution_count": null,
   "id": "b4841ad9-790c-4e32-93d2-c2928f209fb7",
   "metadata": {},
   "outputs": [],
   "source": []
  },
  {
   "cell_type": "code",
   "execution_count": null,
   "id": "ba47e973-84c3-4041-b9b7-3213eb3cf9c9",
   "metadata": {},
   "outputs": [],
   "source": []
  },
  {
   "cell_type": "code",
   "execution_count": null,
   "id": "6e03f516-1433-4ffe-a4ad-e4ebfba431b0",
   "metadata": {},
   "outputs": [],
   "source": []
  },
  {
   "cell_type": "code",
   "execution_count": null,
   "id": "8f1cfdba-e248-486c-8b84-ed343c8da788",
   "metadata": {},
   "outputs": [],
   "source": []
  },
  {
   "cell_type": "code",
   "execution_count": null,
   "id": "5f3a5da4-4515-4bfd-9c30-4d1ebb5dbfa8",
   "metadata": {},
   "outputs": [],
   "source": []
  }
 ],
 "metadata": {
  "kernelspec": {
   "display_name": "Python 3 (ipykernel)",
   "language": "python",
   "name": "python3"
  },
  "language_info": {
   "codemirror_mode": {
    "name": "ipython",
    "version": 3
   },
   "file_extension": ".py",
   "mimetype": "text/x-python",
   "name": "python",
   "nbconvert_exporter": "python",
   "pygments_lexer": "ipython3",
   "version": "3.12.4"
  }
 },
 "nbformat": 4,
 "nbformat_minor": 5
}
